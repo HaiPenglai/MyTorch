{
 "cells": [
  {
   "cell_type": "markdown",
   "id": "3b4b6157",
   "metadata": {},
   "source": [
    "### 任务：下载项目代码和环境\n",
    "\n",
    "安装vscode\n",
    "\n",
    "安装anaconda\n",
    "\n",
    "创建虚拟环境\n",
    "\n",
    "安装pytorch\n",
    "\n",
    "安装插件:python+pylance, jupiter notebook, \n",
    "\n",
    "配置jupiter notebook的kernel\n",
    "\n",
    "安装mytorch"
   ]
  },
  {
   "cell_type": "markdown",
   "id": "dcba939a",
   "metadata": {},
   "source": [
    "### 任务：验证上述步骤都操作正确\n",
    "\n",
    "\n",
    "\n",
    "TODO：进入到test，也就是标准答案的测试文件夹，执行python unit_test.py\n",
    "\n",
    "(不要在其他路径执行，因为测试时会生成pth文件然后移除)，应该看到所有测试都通过了，即可正式开始项目。如果没有通过或者报错，说明代码或环境还有问题。"
   ]
  }
 ],
 "metadata": {
  "kernelspec": {
   "display_name": "Python 3",
   "language": "python",
   "name": "python3"
  },
  "language_info": {
   "name": "python",
   "version": "3.12.7"
  }
 },
 "nbformat": 4,
 "nbformat_minor": 5
}
