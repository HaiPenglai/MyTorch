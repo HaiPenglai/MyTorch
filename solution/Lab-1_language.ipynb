{
 "cells": [
  {
   "cell_type": "markdown",
   "id": "2a195353",
   "metadata": {},
   "source": [
    "# Lab-1:python、pytorch、cpp、cuda语言基础\n",
    "\n",
    "【分享一下：如何填写TODO通过测试】\n",
    "\n",
    "### 目标\n",
    "\n",
    "把本项目中的语言概览一遍"
   ]
  },
  {
   "cell_type": "markdown",
   "id": "1b347762",
   "metadata": {},
   "source": [
    "## Python\n",
    "\n",
    "安装环境后用`python xx.py`\n",
    "\n",
    "TODO: 完成example/python_example下面的所有TODO"
   ]
  },
  {
   "cell_type": "markdown",
   "id": "b5720fba",
   "metadata": {},
   "source": [
    "## Pytorch\n",
    "\n",
    "安装环境后用`python xx.py`\n",
    "\n",
    "TODO: 完成example/pytorch_example下面的所有TODO"
   ]
  },
  {
   "cell_type": "markdown",
   "id": "a080bef2",
   "metadata": {},
   "source": [
    "## CPP\n",
    "\n",
    "安装环境后用`gcc xx.cpp -o xx`\n",
    "\n",
    "TODO:完成example/pytorch_example下面的所有TODO"
   ]
  },
  {
   "cell_type": "markdown",
   "id": "53098184",
   "metadata": {},
   "source": [
    "## CUDA\n",
    "\n",
    "![](../.assets/cuda-programming.png)\n",
    "\n",
    "不要有警告需要安装vscode-cudacpp插件\n",
    "\n",
    "首先要安装`CUDA Toolkit`​，然后把`C:\\Program Files\\NVIDIA GPU Computing Toolkit\\CUDA\\v12.0\\bin`添加到环境变量(路径可能稍有不同)\n",
    "\n",
    "就可以使用这个文件夹下的nvcc.exe了\n",
    "\n",
    "然后还需要添加VisualStudio当中的`F:\\tool\\VisualStudio\\VisualStudio\\VC\\Tools\\MSVC\\14.37.32822\\bin\\Hostx64\\x64`到环境变量(路径可能稍有不同)\n",
    "\n",
    "然后就可以使用这个文件夹下面的cl.exe了\n",
    "\n",
    "安装环境后用`nvcc xx.cu -o xx`，然后`xx.exe`运行"
   ]
  },
  {
   "cell_type": "markdown",
   "id": "74e3da1b",
   "metadata": {},
   "source": [
    "![](../.assets/cuda_id_1d.jpg)\n",
    "\n",
    "看上面一维网格、一维线程块图示\n",
    "\n",
    "TODO: 完成`cuda_example\\hello_world\\hello_world.cu`下面的所有TODO"
   ]
  },
  {
   "cell_type": "markdown",
   "id": "a3801ab7",
   "metadata": {},
   "source": []
  }
 ],
 "metadata": {
  "language_info": {
   "name": "python"
  }
 },
 "nbformat": 4,
 "nbformat_minor": 5
}
