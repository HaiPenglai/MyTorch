{
 "cells": [
  {
   "cell_type": "markdown",
   "id": "7c42c7a7",
   "metadata": {},
   "source": [
    "# Lab3:如何手写线性、激活的梯度，街牌识别\n",
    "\n",
    "【分享一下：如何填写TODO通过测试】\n",
    "\n",
    "### 目标\n",
    "\n"
   ]
  },
  {
   "cell_type": "markdown",
   "id": "f6184636",
   "metadata": {},
   "source": [
    "### 任务：推导几种激活的导数\n",
    "\n",
    "问题：如何利用类似于三角函数的性质推导tanh的导数\n",
    "\n",
    "【把tanh换成sinh/cosh，由于sinhx导数是cosh，反之同，搞定】\n",
    "\n",
    "TODO：手动推导sigmoid和softmax的导数\n",
    "\n",
    "![](../.assets/softmax_grad.jpg)\n",
    "\n"
   ]
  },
  {
   "cell_type": "markdown",
   "id": "6a9ebc06",
   "metadata": {},
   "source": [
    "### 任务：推导线性层的梯度\n",
    "\n"
   ]
  },
  {
   "cell_type": "markdown",
   "id": "839d7d66",
   "metadata": {},
   "source": [
    "### 任务：用自己的算子实现模型"
   ]
  }
 ],
 "metadata": {
  "language_info": {
   "name": "python"
  }
 },
 "nbformat": 4,
 "nbformat_minor": 5
}
