{
 "cells": [
  {
   "cell_type": "code",
   "execution_count": null,
   "id": "a6e0c60c",
   "metadata": {},
   "outputs": [],
   "source": [
    "# 课程开始之前，先检查环境\n",
    "import torch\n",
    "print(torch.__version__)\n"
   ]
  }
 ],
 "metadata": {
  "kernelspec": {
   "display_name": "Python 3",
   "language": "python",
   "name": "python3"
  },
  "language_info": {
   "name": "python",
   "version": "3.12.7"
  }
 },
 "nbformat": 4,
 "nbformat_minor": 5
}
